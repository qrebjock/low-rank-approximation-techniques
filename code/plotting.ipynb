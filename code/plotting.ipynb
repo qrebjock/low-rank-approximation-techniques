{
 "cells": [
  {
   "cell_type": "code",
   "execution_count": null,
   "metadata": {},
   "outputs": [],
   "source": [
    "include(\"utils.jl\")\n",
    "\n",
    "using Plots\n",
    "using LaTeXStrings\n",
    "using Statistics"
   ]
  },
  {
   "cell_type": "code",
   "execution_count": null,
   "metadata": {},
   "outputs": [],
   "source": [
    "n = 100\n",
    "maxk = 50\n",
    "repeats = 200\n",
    "\n",
    "A = hilbert(n)\n",
    "ks = 1:maxk\n",
    "λ = 1e-4\n",
    "\n",
    "errors = zeros(maxk, repeats, 3)\n",
    "\n",
    "methods = [\n",
    "    ridge_weights(A, λ),\n",
    "    uniform_weights(A),\n",
    "    squared_norms_weights(A)\n",
    "]\n",
    "\n",
    "for k in ks\n",
    "    for rep = 1:repeats\n",
    "        for (i, w) in enumerate(methods)\n",
    "            C = samplemat(A, w, k)\n",
    "            C = unique(C, dims=2)\n",
    "            errors[k, rep, i] = approxerror(A, C)\n",
    "        end\n",
    "    end\n",
    "end"
   ]
  },
  {
   "cell_type": "code",
   "execution_count": null,
   "metadata": {},
   "outputs": [],
   "source": [
    "best_approx_errors = zeros(maxk)\n",
    "\n",
    "for k in ks\n",
    "    C = best_approx(A, k)\n",
    "    best_approx_errors[k] = approxerror(A, C)\n",
    "end"
   ]
  },
  {
   "cell_type": "code",
   "execution_count": null,
   "metadata": {},
   "outputs": [],
   "source": [
    "means = mean(errors, dims=2)[:, 1, :]\n",
    "stds = std(errors, dims=2)[:, 1, :]\n",
    "\n",
    "plot(xlabel=L\"k\", ylabel=L\"\\textrm{error}\")\n",
    "plot!(ks, means[:, 2], yaxis=:log, label=\"uniform\", w=2)\n",
    "plot!(ks, means[:, 3], yaxis=:log, label=\"squared norm\", w=2)\n",
    "plot!(ks, means[:, 1], yaxis=:log, label=\"ridge\", w=2)\n",
    "p = plot!(ks, best_approx_errors, yaxis=:log, label=\"best\", c=:gray, w=2, ls=:dashdot)"
   ]
  },
  {
   "cell_type": "code",
   "execution_count": null,
   "metadata": {},
   "outputs": [],
   "source": [
    "savefig(p, \"plot.pdf\")"
   ]
  },
  {
   "cell_type": "code",
   "execution_count": null,
   "metadata": {},
   "outputs": [],
   "source": []
  }
 ],
 "metadata": {
  "kernelspec": {
   "display_name": "Julia 1.5.2",
   "language": "julia",
   "name": "julia-1.5"
  },
  "language_info": {
   "file_extension": ".jl",
   "mimetype": "application/julia",
   "name": "julia",
   "version": "1.5.2"
  }
 },
 "nbformat": 4,
 "nbformat_minor": 4
}
