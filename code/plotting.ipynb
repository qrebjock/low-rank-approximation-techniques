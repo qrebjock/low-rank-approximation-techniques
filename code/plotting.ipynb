{
 "cells": [
  {
   "cell_type": "code",
   "execution_count": null,
   "metadata": {},
   "outputs": [],
   "source": [
    "include(\"utils.jl\")\n",
    "\n",
    "using Plots"
   ]
  },
  {
   "cell_type": "code",
   "execution_count": null,
   "metadata": {},
   "outputs": [],
   "source": [
    "n = 100\n",
    "maxk = 50\n",
    "repeats = 20\n",
    "\n",
    "A = hilbert(n)\n",
    "ks = 1:maxk\n",
    "λ = 1e-8\n",
    "\n",
    "errors = zeros(maxk, repeats, 3)\n",
    "\n",
    "ridgew = ridge_weights(A, λ)\n",
    "uniw = uniform_weights(A)\n",
    "sqnmw = squared_norms_weights(A)\n",
    "methods = [ridgew, uniw, sqnmw]\n",
    "\n",
    "for k = ks\n",
    "    for rep = 1:repeats\n",
    "        for (i, w) in enumerate(methods)\n",
    "            C = samplemat(A, w, k)\n",
    "            errors[k, rep, i] = approxerror(A, C)\n",
    "        end\n",
    "    end\n",
    "end"
   ]
  },
  {
   "cell_type": "code",
   "execution_count": null,
   "metadata": {},
   "outputs": [],
   "source": [
    "plot(ks, mean(errors, dims=2)[:, 1, :])"
   ]
  },
  {
   "cell_type": "code",
   "execution_count": null,
   "metadata": {},
   "outputs": [],
   "source": []
  }
 ],
 "metadata": {
  "kernelspec": {
   "display_name": "Julia 1.5.2",
   "language": "julia",
   "name": "julia-1.5"
  },
  "language_info": {
   "file_extension": ".jl",
   "mimetype": "application/julia",
   "name": "julia",
   "version": "1.5.2"
  }
 },
 "nbformat": 4,
 "nbformat_minor": 4
}
